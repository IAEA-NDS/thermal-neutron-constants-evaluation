{
 "cells": [
  {
   "cell_type": "markdown",
   "id": "1501aa5d-6228-4146-871f-87ff51713960",
   "metadata": {},
   "source": [
    "# Cf nubar with USU\n",
    "\n",
    "Load the required modules, functions from gmapy\n",
    "and widely used data science packages"
   ]
  },
  {
   "cell_type": "code",
   "execution_count": 1,
   "id": "fd52f05b-ad6c-4a1c-a429-fe13dd4adfcb",
   "metadata": {},
   "outputs": [
    {
     "name": "stderr",
     "output_type": "stream",
     "text": [
      "2025-02-02 12:10:13.432241: I tensorflow/core/util/port.cc:113] oneDNN custom operations are on. You may see slightly different numerical results due to floating-point round-off errors from different computation orders. To turn them off, set the environment variable `TF_ENABLE_ONEDNN_OPTS=0`.\n",
      "2025-02-02 12:10:13.432591: I external/local_tsl/tsl/cuda/cudart_stub.cc:32] Could not find cuda drivers on your machine, GPU will not be used.\n",
      "2025-02-02 12:10:13.435317: I external/local_tsl/tsl/cuda/cudart_stub.cc:32] Could not find cuda drivers on your machine, GPU will not be used.\n",
      "2025-02-02 12:10:13.466568: I tensorflow/core/platform/cpu_feature_guard.cc:210] This TensorFlow binary is optimized to use available CPU instructions in performance-critical operations.\n",
      "To enable the following instructions: AVX2 AVX512F AVX512_VNNI FMA, in other operations, rebuild TensorFlow with the appropriate compiler flags.\n",
      "2025-02-02 12:10:13.994785: W tensorflow/compiler/tf2tensorrt/utils/py_utils.cc:38] TF-TRT Warning: Could not find TensorRT\n"
     ]
    }
   ],
   "source": [
    "import pandas as pd\n",
    "import numpy as np\n",
    "import tensorflow as tf\n",
    "from gmapy.mappings.tf.compound_map_tf \\\n",
    "    import CompoundMap as CompoundMapTF\n",
    "from gmapy.tf_uq.custom_distributions import (\n",
    "    MultivariateNormalLikelihoodWithCovParams,\n",
    ")\n",
    "from gmapy.tf_uq.inference import determine_MAP_estimate\n",
    "from gmapy.tf_uq.inference import generate_MCMC_chain"
   ]
  },
  {
   "cell_type": "markdown",
   "id": "d7141f34-be4e-421c-8181-c9c673ec3905",
   "metadata": {},
   "source": [
    "Next we define the theoretical quantities we want to estimate. Here it is a single one: Cf nubar"
   ]
  },
  {
   "cell_type": "code",
   "execution_count": 2,
   "id": "7e53df76-aabe-41b1-a753-a1fde834f3b9",
   "metadata": {},
   "outputs": [],
   "source": [
    "priortable = pd.DataFrame.from_records([\n",
    "    {'NODE': 'xsid_1', 'REAC': 'MT:1-R1:1', 'ENERGY': 1.0, 'PRIOR': 1.0, 'UNC': 1e4},\n",
    "])\n",
    "priorcov = np.diag(np.square(priortable.UNC))  # not used"
   ]
  },
  {
   "cell_type": "markdown",
   "id": "c045ef69-3186-440b-9bb4-5591a7d2e762",
   "metadata": {},
   "source": [
    "Next we define the experimental quantities. Here they are only nubar measurements. Uncertainty is given absolute"
   ]
  },
  {
   "cell_type": "code",
   "execution_count": 3,
   "id": "b961c51e-440a-4b84-afea-a846ec5d20d9",
   "metadata": {},
   "outputs": [],
   "source": [
    "exptable = pd.DataFrame.from_records([\n",
    "    {'NODE': 'exp_1',  'REAC': 'MT:1-R1:1', 'ENERGY': 1.0, 'DATA': 3.755, 'UNC': 1.618e-2 },\n",
    "    {'NODE': 'exp_2',  'REAC': 'MT:1-R1:1', 'ENERGY': 1.0, 'DATA': 3.783, 'UNC': 8.361e-3 },\n",
    "    {'NODE': 'exp_3',  'REAC': 'MT:1-R1:1', 'ENERGY': 1.0, 'DATA': 3.777, 'UNC': 3.165e-2 },\n",
    "    {'NODE': 'exp_4',  'REAC': 'MT:1-R1:1', 'ENERGY': 1.0, 'DATA': 3.791, 'UNC': 4.041e-2 },\n",
    "    {'NODE': 'exp_5',  'REAC': 'MT:1-R1:1', 'ENERGY': 1.0, 'DATA': 3.819, 'UNC': 3.945e-2 },\n",
    "    {'NODE': 'exp_6',  'REAC': 'MT:1-R1:1', 'ENERGY': 1.0, 'DATA': 3.755, 'UNC': 1.126e-2 },\n",
    "    {'NODE': 'exp_7',  'REAC': 'MT:1-R1:1', 'ENERGY': 1.0, 'DATA': 3.730, 'UNC': 3.006e-2 },\n",
    "    {'NODE': 'exp_8',  'REAC': 'MT:1-R1:1', 'ENERGY': 1.0, 'DATA': 3.740, 'UNC': 1.638e-2 },\n",
    "    {'NODE': 'exp_9',  'REAC': 'MT:1-R1:1', 'ENERGY': 1.0, 'DATA': 3.762, 'UNC': 1.817e-2 },\n",
    "    {'NODE': 'exp_10', 'REAC': 'MT:1-R1:1', 'ENERGY': 1.0, 'DATA': 3.768, 'UNC': 1.142e-2 },\n",
    "    {'NODE': 'exp_11', 'REAC': 'MT:1-R1:1', 'ENERGY': 1.0, 'DATA': 3.764, 'UNC': 2.676e-2 },\n",
    "    {'NODE': 'exp_12', 'REAC': 'MT:1-R1:1', 'ENERGY': 1.0, 'DATA': 3.747, 'UNC': 2.174e-2 },\n",
    "    {'NODE': 'exp_13', 'REAC': 'MT:1-R1:1', 'ENERGY': 1.0, 'DATA': 3.751, 'UNC': 1.737e-2 },\n",
    "    {'NODE': 'exp_14', 'REAC': 'MT:1-R1:1', 'ENERGY': 1.0, 'DATA': 3.753, 'UNC': 1.839e-2 },\n",
    "    {'NODE': 'exp_15', 'REAC': 'MT:1-R1:1', 'ENERGY': 1.0, 'DATA': 3.783, 'UNC': 2.871e-2 },\n",
    "])\n",
    "expcov = np.diag(np.square(exptable.UNC / exptable.DATA))"
   ]
  },
  {
   "cell_type": "code",
   "execution_count": 57,
   "id": "36ed3cf2-53d8-4c29-985d-e829a0b6d370",
   "metadata": {},
   "outputs": [
    {
     "data": {
      "text/plain": [
       "array([0.00430892, 0.00221015, 0.00837967, 0.01065946, 0.01032993,\n",
       "       0.00299867, 0.00805898, 0.00437968, 0.00482988, 0.00303079,\n",
       "       0.00710946, 0.00580197, 0.00463077, 0.00490008, 0.00758921])"
      ]
     },
     "execution_count": 57,
     "metadata": {},
     "output_type": "execute_result"
    }
   ],
   "source": [
    "np.sqrt(np.diag(expcov))"
   ]
  },
  {
   "cell_type": "markdown",
   "id": "1dda8b31-8108-491e-acf7-369981cddba3",
   "metadata": {},
   "source": [
    "We define variables that are convenient to be used later, such as number of physical quantities to estimate `num_params` and the number of unknown parameters in the covariance matrix. Here we are using one shared usu component."
   ]
  },
  {
   "cell_type": "code",
   "execution_count": 4,
   "id": "2940baae-773d-41d2-9196-69cb63a0e93a",
   "metadata": {},
   "outputs": [],
   "source": [
    "# some convenient shortcuts\n",
    "priorvals = priortable.PRIOR.to_numpy()\n",
    "expvals = exptable.DATA.to_numpy()\n",
    "\n",
    "num_params = len(priorvals)\n",
    "num_covpars = 16\n",
    "num_allpars = num_params + num_covpars"
   ]
  },
  {
   "cell_type": "markdown",
   "id": "521b0c2c-4f75-41a9-883d-8a419b45aa9a",
   "metadata": {},
   "source": [
    "We combine the prior of physical quantities with the unknown USU uncertainty component"
   ]
  },
  {
   "cell_type": "code",
   "execution_count": 5,
   "id": "67cf6d7f-6b14-40fe-a10a-ba0a969b638c",
   "metadata": {},
   "outputs": [],
   "source": [
    "covpars = np.full(num_covpars, 0.5)\n",
    "ext_priorvals = tf.concat([priorvals, covpars], axis=0)\n",
    "\n",
    "# prepare extended "
   ]
  },
  {
   "cell_type": "markdown",
   "id": "ae8530c7-52df-4907-8536-ef102654f11d",
   "metadata": {},
   "source": [
    "The prior table `priortable` and the experimental table `exptable` contain all the information to create a `mapping` object that knows how to propagate the values associated with the physical quantities to the ones stored in `exptable`"
   ]
  },
  {
   "cell_type": "code",
   "execution_count": 6,
   "id": "9310bb0e-d405-4fda-8aec-b200872ec195",
   "metadata": {},
   "outputs": [],
   "source": [
    "compmap = CompoundMapTF((priortable, exptable), reduce=True)"
   ]
  },
  {
   "cell_type": "markdown",
   "id": "0291fed4-9b2d-4913-bff1-d1100ca531ce",
   "metadata": {},
   "source": [
    "Next, we define a function that returns a `LinearOperator` objects (in principle just a matrix) to represent the experimental covariance matrix that includes the USU component. The value of the USU component is passed to this function."
   ]
  },
  {
   "cell_type": "code",
   "execution_count": 14,
   "id": "3e4f5026-0621-4ae9-ab56-cce9efcb6060",
   "metadata": {},
   "outputs": [
    {
     "data": {
      "text/plain": [
       "<tf.Tensor: shape=(15, 15), dtype=float64, numpy=\n",
       "array([[1.18566804e-04, 1.05409185e-05, 1.05409185e-05, 1.05409185e-05,\n",
       "        1.05409185e-05, 1.05409185e-05, 1.05409185e-05, 1.05409185e-05,\n",
       "        1.05409185e-05, 1.05409185e-05, 1.05409185e-05, 1.05409185e-05,\n",
       "        1.05409185e-05, 1.05409185e-05, 1.05409185e-05],\n",
       "       [1.05409185e-05, 1.04884766e-04, 1.05409185e-05, 1.05409185e-05,\n",
       "        1.05409185e-05, 1.05409185e-05, 1.05409185e-05, 1.05409185e-05,\n",
       "        1.05409185e-05, 1.05409185e-05, 1.05409185e-05, 1.05409185e-05,\n",
       "        1.05409185e-05, 1.05409185e-05, 1.05409185e-05],\n",
       "       [1.05409185e-05, 1.05409185e-05, 1.70218809e-04, 1.05409185e-05,\n",
       "        1.05409185e-05, 1.05409185e-05, 1.05409185e-05, 1.05409185e-05,\n",
       "        1.05409185e-05, 1.05409185e-05, 1.05409185e-05, 1.05409185e-05,\n",
       "        1.05409185e-05, 1.05409185e-05, 1.05409185e-05],\n",
       "       [1.05409185e-05, 1.05409185e-05, 1.05409185e-05, 2.13624015e-04,\n",
       "        1.05409185e-05, 1.05409185e-05, 1.05409185e-05, 1.05409185e-05,\n",
       "        1.05409185e-05, 1.05409185e-05, 1.05409185e-05, 1.05409185e-05,\n",
       "        1.05409185e-05, 1.05409185e-05, 1.05409185e-05],\n",
       "       [1.05409185e-05, 1.05409185e-05, 1.05409185e-05, 1.05409185e-05,\n",
       "        2.06707439e-04, 1.05409185e-05, 1.05409185e-05, 1.05409185e-05,\n",
       "        1.05409185e-05, 1.05409185e-05, 1.05409185e-05, 1.05409185e-05,\n",
       "        1.05409185e-05, 1.05409185e-05, 1.05409185e-05],\n",
       "       [1.05409185e-05, 1.05409185e-05, 1.05409185e-05, 1.05409185e-05,\n",
       "        1.05409185e-05, 1.08992012e-04, 1.05409185e-05, 1.05409185e-05,\n",
       "        1.05409185e-05, 1.05409185e-05, 1.05409185e-05, 1.05409185e-05,\n",
       "        1.05409185e-05, 1.05409185e-05, 1.05409185e-05],\n",
       "       [1.05409185e-05, 1.05409185e-05, 1.05409185e-05, 1.05409185e-05,\n",
       "        1.05409185e-05, 1.05409185e-05, 1.64947179e-04, 1.05409185e-05,\n",
       "        1.05409185e-05, 1.05409185e-05, 1.05409185e-05, 1.05409185e-05,\n",
       "        1.05409185e-05, 1.05409185e-05, 1.05409185e-05],\n",
       "       [1.05409185e-05, 1.05409185e-05, 1.05409185e-05, 1.05409185e-05,\n",
       "        1.05409185e-05, 1.05409185e-05, 1.05409185e-05, 1.19181589e-04,\n",
       "        1.05409185e-05, 1.05409185e-05, 1.05409185e-05, 1.05409185e-05,\n",
       "        1.05409185e-05, 1.05409185e-05, 1.05409185e-05],\n",
       "       [1.05409185e-05, 1.05409185e-05, 1.05409185e-05, 1.05409185e-05,\n",
       "        1.05409185e-05, 1.05409185e-05, 1.05409185e-05, 1.05409185e-05,\n",
       "        1.23327719e-04, 1.05409185e-05, 1.05409185e-05, 1.05409185e-05,\n",
       "        1.05409185e-05, 1.05409185e-05, 1.05409185e-05],\n",
       "       [1.05409185e-05, 1.05409185e-05, 1.05409185e-05, 1.05409185e-05,\n",
       "        1.05409185e-05, 1.05409185e-05, 1.05409185e-05, 1.05409185e-05,\n",
       "        1.05409185e-05, 1.09185661e-04, 1.05409185e-05, 1.05409185e-05,\n",
       "        1.05409185e-05, 1.05409185e-05, 1.05409185e-05],\n",
       "       [1.05409185e-05, 1.05409185e-05, 1.05409185e-05, 1.05409185e-05,\n",
       "        1.05409185e-05, 1.05409185e-05, 1.05409185e-05, 1.05409185e-05,\n",
       "        1.05409185e-05, 1.05409185e-05, 1.50544393e-04, 1.05409185e-05,\n",
       "        1.05409185e-05, 1.05409185e-05, 1.05409185e-05],\n",
       "       [1.05409185e-05, 1.05409185e-05, 1.05409185e-05, 1.05409185e-05,\n",
       "        1.05409185e-05, 1.05409185e-05, 1.05409185e-05, 1.05409185e-05,\n",
       "        1.05409185e-05, 1.05409185e-05, 1.05409185e-05, 1.33662913e-04,\n",
       "        1.05409185e-05, 1.05409185e-05, 1.05409185e-05],\n",
       "       [1.05409185e-05, 1.05409185e-05, 1.05409185e-05, 1.05409185e-05,\n",
       "        1.05409185e-05, 1.05409185e-05, 1.05409185e-05, 1.05409185e-05,\n",
       "        1.05409185e-05, 1.05409185e-05, 1.05409185e-05, 1.05409185e-05,\n",
       "        1.21443986e-04, 1.05409185e-05, 1.05409185e-05],\n",
       "       [1.05409185e-05, 1.05409185e-05, 1.05409185e-05, 1.05409185e-05,\n",
       "        1.05409185e-05, 1.05409185e-05, 1.05409185e-05, 1.05409185e-05,\n",
       "        1.05409185e-05, 1.05409185e-05, 1.05409185e-05, 1.05409185e-05,\n",
       "        1.05409185e-05, 1.24010783e-04, 1.05409185e-05],\n",
       "       [1.05409185e-05, 1.05409185e-05, 1.05409185e-05, 1.05409185e-05,\n",
       "        1.05409185e-05, 1.05409185e-05, 1.05409185e-05, 1.05409185e-05,\n",
       "        1.05409185e-05, 1.05409185e-05, 1.05409185e-05, 1.05409185e-05,\n",
       "        1.05409185e-05, 1.05409185e-05, 1.57596183e-04]])>"
      ]
     },
     "execution_count": 14,
     "metadata": {},
     "output_type": "execute_result"
    }
   ],
   "source": [
    "def like_cov_fun(usu_uncs):\n",
    "    expcov_tf = tf.constant(expcov)\n",
    "    n = tf.shape(expcov_tf)[0]\n",
    "    # statistical component\n",
    "    stat_uncs = usu_uncs[:n]\n",
    "    stat_vars = tf.square(stat_uncs)\n",
    "    tot_vars = tf.linalg.diag_part(expcov_tf) + stat_vars\n",
    "    # systematic component\n",
    "    sys_var = tf.sigmoid(usu_uncs[n]) * 0.2 * tf.reduce_min(tot_vars)\n",
    "    sys_cov = sys_var * tf.ones_like(expcov_tf)\n",
    "\n",
    "    stat_cov = tf.linalg.diag(tot_vars - tf.linalg.diag_part(sys_cov))\n",
    "    # full covariance matrix\n",
    "    tot_cov = sys_cov + stat_cov\n",
    "    # calculate total covariance matrix\n",
    "    expcov_with_usu = tf.linalg.LinearOperatorFullMatrix(tot_cov)\n",
    "    return expcov_with_usu\n",
    "\n",
    "\n",
    "# REMOVE: testing\n",
    "usu_uncs = tf.constant(np.full(16, 0.01), dtype=tf.float64)\n",
    "like_cov_fun(usu_uncs).to_dense()"
   ]
  },
  {
   "cell_type": "markdown",
   "id": "ca95b795-25b7-4b5e-8843-e08856119165",
   "metadata": {},
   "source": [
    "TODO"
   ]
  },
  {
   "cell_type": "code",
   "execution_count": 15,
   "id": "badcc006-fb95-4217-a553-eaa90e6f924f",
   "metadata": {},
   "outputs": [],
   "source": [
    "covpars = np.full(num_covpars, 0.1)\n",
    "ext_priorvals = tf.concat([priorvals, covpars], axis=0)"
   ]
  },
  {
   "cell_type": "markdown",
   "id": "d2708a87-ddea-4e64-9e59-fc956cfff669",
   "metadata": {},
   "source": [
    "The `compmap` objects has two methods `propagate` and `jacobian` that are needed for Maximum Likelihood Estimation and also the MCMC sampling. We can use tensorflow functionality to speed up their calculation (by compilation)"
   ]
  },
  {
   "cell_type": "code",
   "execution_count": 16,
   "id": "dd6b528b-e694-4d63-9047-32b3461d9e18",
   "metadata": {},
   "outputs": [],
   "source": [
    "propfun = tf.function(compmap.propagate)\n",
    "jacfun = tf.function(compmap.jacobian)"
   ]
  },
  {
   "cell_type": "markdown",
   "id": "327e7028-158b-443c-97eb-918c0f54eec0",
   "metadata": {},
   "source": [
    "We use these two functions and the experimental data with their covariance matrix to define the multivariate normal distribution"
   ]
  },
  {
   "cell_type": "code",
   "execution_count": 17,
   "id": "2d4cd0cd-50fa-4c7e-86e1-b1e92ca46701",
   "metadata": {},
   "outputs": [],
   "source": [
    "likelihood = MultivariateNormalLikelihoodWithCovParams(\n",
    "    num_params, num_covpars,\n",
    "    propfun, jacfun,\n",
    "    expvals, like_cov_fun,\n",
    "    approximate_hessian=True, relative=True\n",
    ")"
   ]
  },
  {
   "cell_type": "markdown",
   "id": "89c506cf-049b-4ec3-8669-eaa4ca5436ac",
   "metadata": {},
   "source": [
    "In principle, we want to sample from the posterior distribution, which is the product of prior and likelihood. However, here we assume for simplicity a flat prior so the posterior is proportional to the likelihood."
   ]
  },
  {
   "cell_type": "code",
   "execution_count": 18,
   "id": "d676840b-7237-42f3-bb58-7e13d60f0b71",
   "metadata": {},
   "outputs": [],
   "source": [
    "post = likelihood "
   ]
  },
  {
   "cell_type": "markdown",
   "id": "91ec0231-3083-405f-b4a6-63d6363fb8c3",
   "metadata": {},
   "source": [
    "For the Maximum Likelihood Estimation (MLE) we need the gradient and the Hessian of the objective function is also helpful. We use again tensorflow to speed up the computation of these quantities."
   ]
  },
  {
   "cell_type": "code",
   "execution_count": 19,
   "id": "6594e7d7-0a26-4fe1-9f53-8f51b04e7c82",
   "metadata": {},
   "outputs": [],
   "source": [
    "neg_log_prob_and_gradient = tf.function(post.neg_log_prob_and_gradient)\n",
    "neg_log_post_hessian = post.neg_log_prob_hessian"
   ]
  },
  {
   "cell_type": "markdown",
   "id": "98cb6065-1389-41e7-b939-bdea74a76234",
   "metadata": {},
   "source": [
    "Now we can do the MLE. The following function is in principle a wrapper around the BFGS optimization algorithm (implemented in `Tensorflow Probability`."
   ]
  },
  {
   "cell_type": "code",
   "execution_count": 20,
   "id": "3ce66a22-379b-4583-abc6-ce019c3408a7",
   "metadata": {},
   "outputs": [
    {
     "name": "stdout",
     "output_type": "stream",
     "text": [
      "#  outer iteration 1\n",
      "-- running inner iteration with 500 iterations\n",
      "WARNING:tensorflow:Using (possibly slow) default implementation of determinant.  Requires conversion to a dense matrix and O(N^3) operations.\n",
      "WARNING:tensorflow:Using (possibly slow) default implementation of determinant.  Requires conversion to a dense matrix and O(N^3) operations.\n",
      "Inner iterations: 500\n",
      "#  outer iteration 2\n",
      "-- running inner iteration with 500 iterations\n",
      "WARNING:tensorflow:Using (possibly slow) default implementation of determinant.  Requires conversion to a dense matrix and O(N^3) operations.\n",
      "Inner iterations: 148\n"
     ]
    }
   ],
   "source": [
    "optres = determine_MAP_estimate(\n",
    "    ext_priorvals, neg_log_prob_and_gradient,\n",
    "    neg_log_post_hessian, max_inner_iters=500, max_outer_iters=50, nugget=1e-3,\n",
    "    ret_optres=True, must_converge=True\n",
    ")"
   ]
  },
  {
   "cell_type": "markdown",
   "id": "a7ded0a6-ce33-48c1-abdd-6f4399e41bec",
   "metadata": {},
   "source": [
    "The optimization result is available in `optres.position`. We also set the seed for reproducible MCMC chain."
   ]
  },
  {
   "cell_type": "code",
   "execution_count": 47,
   "id": "0f9cf85b-14b2-4879-b183-bd8ff6dec39c",
   "metadata": {},
   "outputs": [
    {
     "data": {
      "text/plain": [
       "<tf.Tensor: shape=(17,), dtype=float64, numpy=\n",
       "array([ 3.75928568e+00, -6.89951358e-15, -5.90834952e-03,  7.43903274e-15,\n",
       "        8.30260775e-15,  1.20668733e-02,  2.30608983e-15,  2.95584522e-14,\n",
       "       -2.67147945e-03,  1.35101069e-15, -1.14784956e-15,  3.63345600e-15,\n",
       "        2.74271862e-15, -5.83377652e-16, -9.48574900e-16, -3.53654360e-15,\n",
       "       -4.01923933e+01])>"
      ]
     },
     "execution_count": 47,
     "metadata": {},
     "output_type": "execute_result"
    }
   ],
   "source": [
    "# set seed for MCMC\n",
    "tf.random.set_seed(42)\n",
    "# define essential input quantities for MCMC\n",
    "optvals = optres.position\n",
    "optvals"
   ]
  },
  {
   "cell_type": "code",
   "execution_count": 25,
   "id": "0d7434d4-6f4b-48bf-9b56-b8ea5f633eaf",
   "metadata": {},
   "outputs": [
    {
     "data": {
      "text/plain": [
       "<tf.Tensor: shape=(5, 5), dtype=float64, numpy=\n",
       "array([[1.85668040e-05, 6.30307224e-24, 6.30307224e-24, 6.30307224e-24,\n",
       "        6.30307224e-24],\n",
       "       [6.30307224e-24, 3.97933600e-05, 6.30307224e-24, 6.30307224e-24,\n",
       "        6.30307224e-24],\n",
       "       [6.30307224e-24, 6.30307224e-24, 7.02188090e-05, 6.30307224e-24,\n",
       "        6.30307224e-24],\n",
       "       [6.30307224e-24, 6.30307224e-24, 6.30307224e-24, 1.13624015e-04,\n",
       "        6.30307224e-24],\n",
       "       [6.30307224e-24, 6.30307224e-24, 6.30307224e-24, 6.30307224e-24,\n",
       "        2.52316871e-04]])>"
      ]
     },
     "execution_count": 25,
     "metadata": {},
     "output_type": "execute_result"
    }
   ],
   "source": [
    "like_cov_fun(optvals[1:]).to_dense()[:5,:5]"
   ]
  },
  {
   "cell_type": "markdown",
   "id": "23aa1515-b331-466a-90d7-c0b3cdb6c92a",
   "metadata": {},
   "source": [
    "Now we are running MCMC using Hamiltonian Monte Carlo provided by `Tensorflow Probability` package. The following function is a part of `gmapy` that wraps around the tensorflow probability function."
   ]
  },
  {
   "cell_type": "code",
   "execution_count": 51,
   "id": "1ff45705-571a-4b27-8805-135715a809b1",
   "metadata": {},
   "outputs": [
    {
     "name": "stdout",
     "output_type": "stream",
     "text": [
      "WARNING:tensorflow:Using (possibly slow) default implementation of determinant.  Requires conversion to a dense matrix and O(N^3) operations.\n",
      "WARNING:tensorflow:Using (possibly slow) default implementation of determinant.  Requires conversion to a dense matrix and O(N^3) operations.\n",
      "WARNING:tensorflow:Using (possibly slow) default implementation of determinant.  Requires conversion to a dense matrix and O(N^3) operations.\n",
      "WARNING:tensorflow:Using (possibly slow) default implementation of determinant.  Requires conversion to a dense matrix and O(N^3) operations.\n",
      "710.1355862617493\n"
     ]
    }
   ],
   "source": [
    "import time\n",
    "s1 = time.time()\n",
    "chain, tracing_info = generate_MCMC_chain(\n",
    "    optvals, post.log_prob, post.neg_log_prob_hessian,\n",
    "    nugget=1e-8, step_size=1, num_burnin_steps=int(1e4),\n",
    "    num_results=int(2e5), num_leapfrog_steps=2\n",
    ")\n",
    "s2 = time.time()\n",
    "print(s2-s1)"
   ]
  },
  {
   "cell_type": "markdown",
   "id": "e8a0929d-717c-46ed-ad5e-0edd2b122bbc",
   "metadata": {},
   "source": [
    "The full chain is stored in `chain` for all two variables (nubar and usu uncertainty). We extract this chains into separate variables for convenience."
   ]
  },
  {
   "cell_type": "code",
   "execution_count": 52,
   "id": "146e7889-7490-4888-8734-2fb8cdc696b0",
   "metadata": {},
   "outputs": [],
   "source": [
    "import matplotlib.pyplot as plt\n",
    "\n",
    "chain_np = chain.numpy()\n",
    "\n",
    "nubar_chain = chain_np[:,0]\n",
    "usu_chain = np.abs(chain[:, 1])"
   ]
  },
  {
   "cell_type": "markdown",
   "id": "48e3ab07-8247-47da-9843-5c8ab2d39fd0",
   "metadata": {},
   "source": [
    "We perform some diagnostics to see how many samples we have obtained effectively for nubar and usu uncertainty."
   ]
  },
  {
   "cell_type": "code",
   "execution_count": 53,
   "id": "85777c15-25e7-41c3-81e4-b611365f7ec7",
   "metadata": {},
   "outputs": [
    {
     "name": "stdout",
     "output_type": "stream",
     "text": [
      "2262.388555117252\n",
      "184.4983443113954\n"
     ]
    }
   ],
   "source": [
    "from gmapy.mcmc_inference import compute_effective_sample_size\n",
    "print(compute_effective_sample_size(nubar_chain))\n",
    "print(compute_effective_sample_size(usu_chain))"
   ]
  },
  {
   "cell_type": "code",
   "execution_count": 54,
   "id": "ef302108-425c-4dcd-b6b4-42cda4c60655",
   "metadata": {},
   "outputs": [
    {
     "data": {
      "text/plain": [
       "(array([3.0000e+00, 1.7000e+01, 5.0000e+01, 8.0000e+01, 9.7000e+01,\n",
       "        1.7100e+02, 2.8600e+02, 4.2800e+02, 6.9700e+02, 1.0380e+03,\n",
       "        1.8340e+03, 3.3390e+03, 7.3330e+03, 1.7352e+04, 3.7939e+04,\n",
       "        5.2642e+04, 4.0909e+04, 2.0354e+04, 8.2240e+03, 3.6400e+03,\n",
       "        1.8330e+03, 8.7700e+02, 4.8000e+02, 2.2100e+02, 8.8000e+01,\n",
       "        2.1000e+01, 1.7000e+01, 7.0000e+00, 9.0000e+00, 1.4000e+01]),\n",
       " array([3.52399912, 3.53917961, 3.5543601 , 3.5695406 , 3.58472109,\n",
       "        3.59990159, 3.61508208, 3.63026258, 3.64544307, 3.66062357,\n",
       "        3.67580406, 3.69098455, 3.70616505, 3.72134554, 3.73652604,\n",
       "        3.75170653, 3.76688703, 3.78206752, 3.79724801, 3.81242851,\n",
       "        3.827609  , 3.8427895 , 3.85796999, 3.87315049, 3.88833098,\n",
       "        3.90351147, 3.91869197, 3.93387246, 3.94905296, 3.96423345,\n",
       "        3.97941395]),\n",
       " <BarContainer object of 30 artists>)"
      ]
     },
     "execution_count": 54,
     "metadata": {},
     "output_type": "execute_result"
    },
    {
     "data": {
      "image/png": "[encoded data removed]",
      "text/plain": [
       "<Figure size 640x480 with 1 Axes>"
      ]
     },
     "metadata": {},
     "output_type": "display_data"
    }
   ],
   "source": [
    "plt.hist(nubar_chain, bins=30)"
   ]
  },
  {
   "cell_type": "code",
   "execution_count": 55,
   "id": "1c107704-cbf7-43a6-801f-7eb882daaf2a",
   "metadata": {},
   "outputs": [
    {
     "data": {
      "text/plain": [
       "(array([46743.,  2965.,  1684.,  1819.,  1754.,  1830.,  1632.,  1557.,\n",
       "         4041.,  4115.,  9050., 12057., 12908., 12514., 11346.,  7566.,\n",
       "         7434.,  9375.,  9446., 10765.,  9465.,  6886.,  3932.,  1371.,\n",
       "          660.,  1780.,  2340.,  1589.,   837.,   539.]),\n",
       " array([1.57812968e-06, 2.01262841e-01, 4.02524103e-01, 6.03785366e-01,\n",
       "        8.05046629e-01, 1.00630789e+00, 1.20756915e+00, 1.40883042e+00,\n",
       "        1.61009168e+00, 1.81135294e+00, 2.01261420e+00, 2.21387547e+00,\n",
       "        2.41513673e+00, 2.61639799e+00, 2.81765925e+00, 3.01892052e+00,\n",
       "        3.22018178e+00, 3.42144304e+00, 3.62270431e+00, 3.82396557e+00,\n",
       "        4.02522683e+00, 4.22648809e+00, 4.42774936e+00, 4.62901062e+00,\n",
       "        4.83027188e+00, 5.03153314e+00, 5.23279441e+00, 5.43405567e+00,\n",
       "        5.63531693e+00, 5.83657819e+00, 6.03783946e+00]),\n",
       " <BarContainer object of 30 artists>)"
      ]
     },
     "execution_count": 55,
     "metadata": {},
     "output_type": "execute_result"
    },
    {
     "data": {
      "image/png": "[encoded data removed]",
      "text/plain": [
       "<Figure size 640x480 with 1 Axes>"
      ]
     },
     "metadata": {},
     "output_type": "display_data"
    }
   ],
   "source": [
    "plt.hist(np.abs(chain[:, 8]), bins=30)"
   ]
  },
  {
   "cell_type": "code",
   "execution_count": 38,
   "id": "ee67ecfe-15c5-4ec7-830b-bb39a390f61b",
   "metadata": {},
   "outputs": [
    {
     "name": "stdout",
     "output_type": "stream",
     "text": [
      "3.754202550682359\n",
      "0.01084422314061625\n"
     ]
    }
   ],
   "source": [
    "nubar_eval = np.mean(nubar_chain)\n",
    "nubar_unc = np.std(nubar_chain)\n",
    "print(nubar_eval)\n",
    "print(nubar_unc / nubar_eval)"
   ]
  },
  {
   "cell_type": "code",
   "execution_count": 32,
   "id": "995c4695-33e3-40f1-ba93-0e162c487b17",
   "metadata": {},
   "outputs": [
    {
     "name": "stdout",
     "output_type": "stream",
     "text": [
      "0.0879638544761144\n",
      "0.10305848724316674\n"
     ]
    }
   ],
   "source": [
    "usu_eval = np.mean(usu_chain)\n",
    "usu_unc = np.std(usu_chain)\n",
    "print(usu_eval)\n",
    "print(usu_unc)"
   ]
  },
  {
   "cell_type": "code",
   "execution_count": 10,
   "id": "6c2a5227-280d-48cb-ac4f-4dbb9b9f0060",
   "metadata": {},
   "outputs": [
    {
     "data": {
      "text/plain": [
       "<tf.Tensor: shape=(2,), dtype=int32, numpy=array([15, 15], dtype=int32)>"
      ]
     },
     "execution_count": 10,
     "metadata": {},
     "output_type": "execute_result"
    }
   ],
   "source": [
    "expcov_tf = tf.constant(expcov)\n",
    "tf.shape(expcov_tf)"
   ]
  },
  {
   "cell_type": "code",
   "execution_count": null,
   "id": "cc176319-3539-49f0-bfdf-461adc9218fd",
   "metadata": {},
   "outputs": [],
   "source": []
  },
  {
   "cell_type": "markdown",
   "id": "66214389-67d4-4d1d-962e-0b3e1ccbd85a",
   "metadata": {},
   "source": [
    "# "
   ]
  }
 ],
 "metadata": {
  "kernelspec": {
   "display_name": "Python 3 (ipykernel)",
   "language": "python",
   "name": "python3"
  },
  "language_info": {
   "codemirror_mode": {
    "name": "ipython",
    "version": 3
   },
   "file_extension": ".py",
   "mimetype": "text/x-python",
   "name": "python",
   "nbconvert_exporter": "python",
   "pygments_lexer": "ipython3",
   "version": "3.10.12"
  }
 },
 "nbformat": 4,
 "nbformat_minor": 5
}
